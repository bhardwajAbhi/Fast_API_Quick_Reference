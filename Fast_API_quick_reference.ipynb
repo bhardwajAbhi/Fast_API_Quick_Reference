{
 "cells": [
  {
   "cell_type": "code",
   "execution_count": null,
   "metadata": {},
   "outputs": [],
   "source": [
    "from fastapi import FastAPI\n",
    "from fastapi import Query       # used to add more details to the query parameters\n",
    "from fastapi import Path        # used to add more details to the path parameters\n",
    "from typing import Optional     # used to make a query parameter as optional \n",
    "from fastapi.exceptions import HTTPException\n",
    "from pydantic import BaseModel  # used with the Post method "
   ]
  },
  {
   "cell_type": "code",
   "execution_count": null,
   "metadata": {},
   "outputs": [],
   "source": [
    "app = FastAPI()\n",
    "\n",
    "\n",
    "#To run the program: uvicorn fileName.py:app --reload"
   ]
  },
  {
   "cell_type": "markdown",
   "metadata": {},
   "source": [
    "###### Endpoint: An API endpoint is the point of entry in communication channel when two systems are interacting. It refers to touchpoints of the communication between an API and a server. "
   ]
  },
  {
   "cell_type": "markdown",
   "metadata": {},
   "source": [
    "### 1. GET Method: Examples    ===    ===    ===    ===    ===    ==="
   ]
  },
  {
   "cell_type": "markdown",
   "metadata": {},
   "source": [
    "##### 1.1 Normal Path/Environment ---"
   ]
  },
  {
   "cell_type": "code",
   "execution_count": null,
   "metadata": {},
   "outputs": [],
   "source": [
    "@app.get(\"/\")\n",
    "def home():\n",
    "    data = {\n",
    "        \"message\" : \"Hello !!!\"\n",
    "    }\n",
    "    return data\n",
    "\n",
    "@app.get(\"/about\")\n",
    "def about():### 1. GET Method: Examples    ===    ===    ===    ===    ===    ===\n",
    "    data = {\n",
    "        \"Name\" : \"Abhishek\",\n",
    "        \"Organization\" : \"CDAC\"\n",
    "    }\n",
    "    return data"
   ]
  },
  {
   "cell_type": "markdown",
   "metadata": {},
   "source": [
    "##### 1.2 Path/Endpoint with Parameters ---"
   ]
  },
  {
   "cell_type": "code",
   "execution_count": null,
   "metadata": {},
   "outputs": [],
   "source": [
    "car_inventory = {\n",
    "    1: {\n",
    "        \"name\" : \"Nexon\",\n",
    "        \"company\" : \"Tata\",\n",
    "        \"price\" : \"12L\"\n",
    "    },\n",
    "    2: {\n",
    "        \"name\" : \"Scorpio\",\n",
    "        \"company\" : \"Mahindra\",\n",
    "        \"price\" : \"15L\"\n",
    "    },\n",
    "    3: {\n",
    "        \"name\" : \"Creta\",\n",
    "        \"company\" : \"Hyundai\",\n",
    "        \"price\" : \"14L\"\n",
    "    }\n",
    "}\n",
    "\n",
    "\n",
    "@app.get(\"/get-car/{car_id}\")\n",
    "def get_car(car_id: int):\n",
    "    return car_inventory[car_id]"
   ]
  },
  {
   "cell_type": "markdown",
   "metadata": {},
   "source": [
    "##### 1.3 Adding more details to path parameters eg. hints/descriptions/constraints etc. ---"
   ]
  },
  {
   "cell_type": "code",
   "execution_count": null,
   "metadata": {},
   "outputs": [],
   "source": [
    "@app.get(\"/get-car/{car_id}\")\n",
    "def get_car(car_id: int = Path(None, description = \"The ID of the Car you would like to view\", gt = 0, le = 3)): # gt = greater than; lt = less than; le = less than or equals; ge = greater than or equals\n",
    "    return car_inventory[car_id]"
   ]
  },
  {
   "cell_type": "markdown",
   "metadata": {},
   "source": [
    "### 1.4 QUERY Parameters\n",
    "\n",
    "comes after a question mark (?) sign in URLs usually <br>\n",
    "eg: \"facebook.com/home?<b>redirect</b>=/abhishek&<b>msg</b>=fail\" <br>\n",
    "above example has two query parameters --> redirect and msg"
   ]
  },
  {
   "cell_type": "markdown",
   "metadata": {},
   "source": [
    "##### 1.4.1 Example : here [name] parameter is required*"
   ]
  },
  {
   "cell_type": "code",
   "execution_count": null,
   "metadata": {},
   "outputs": [],
   "source": [
    "@app.get(\"/get-car-by-name\")\n",
    "def get_car_by_name(name : str):  \n",
    "\n",
    "    for item_id in car_inventory:\n",
    "        if car_inventory[item_id][\"name\"] == name:\n",
    "            return car_inventory[item_id]\n",
    "    return {\"Data\" : \"Not Found !!\"}\n",
    "\n",
    "\n",
    "# access this endpoint like this: 127.0.0.1:8000/get-car-by-name?name=Creta\n"
   ]
  },
  {
   "cell_type": "markdown",
   "metadata": {},
   "source": [
    "##### 1.4.2 Example: here [name] parameter is optional"
   ]
  },
  {
   "cell_type": "code",
   "execution_count": null,
   "metadata": {},
   "outputs": [],
   "source": [
    "@app.get(\"/get-car-by-name\")\n",
    "def get_car_by_name(name : str = None):  #added a default value to make it optional\n",
    "\n",
    "    for item_id in car_inventory:\n",
    "        if car_inventory[item_id][\"name\"] == name:\n",
    "            return car_inventory[item_id]\n",
    "    return {\"Data\" : \"Not Found !!\"}\n",
    "\n",
    "# access this endpoint like this: 127.0.0.1:8000/get-car-by-name"
   ]
  },
  {
   "cell_type": "markdown",
   "metadata": {},
   "source": [
    "##### 1.4.3 Example: recommended way of making a parameter as Optional as per the FastAPI documentation"
   ]
  },
  {
   "cell_type": "code",
   "execution_count": null,
   "metadata": {},
   "outputs": [],
   "source": [
    "@app.get(\"/get-car-by-name\")\n",
    "def get_car_by_name(name : Optional[str] = None):  # this is useful to give better auto-completion for the FastAPI auto documentation feature\n",
    "\n",
    "    for item_id in car_inventory:\n",
    "        if car_inventory[item_id][\"name\"] == name:\n",
    "            return car_inventory[item_id]\n",
    "    return {\"Data\" : \"Not Found !!\"}\n",
    "\n",
    "\n",
    "# access this endpoint like this: 127.0.0.1:8000/get-car-by-name?name=Creta\n"
   ]
  },
  {
   "cell_type": "markdown",
   "metadata": {},
   "source": [
    "##### 1.4.4 Example: using required* and optional* parameters together [WRONG - way]"
   ]
  },
  {
   "cell_type": "code",
   "execution_count": null,
   "metadata": {},
   "outputs": [],
   "source": [
    "def get_car_by_name(name : Optional[str] = None, test: int):  #test is just a random parameter taken for example\n",
    "    \n",
    "    # above line will give an error like this : Non-default argument follows default argument \n",
    "    # because the require parameter [test] is placed after optional parameter [name]\n",
    "    # for FastAPI it is fine\n",
    "    # but Python generates an error like this: Non-default argument follows default argument \n",
    "    \n",
    "    for item_id in car_inventory:\n",
    "        if car_inventory[item_id][\"name\"] == name:\n",
    "            return car_inventory[item_id]\n",
    "    return {\"Data\" : \"Not Found !!\"}\n",
    "# access this endpoint like this: 127.0.0.1:8000/get-car-by-name?name=Creta&test=1\n"
   ]
  },
  {
   "cell_type": "markdown",
   "metadata": {},
   "source": [
    "##### 1.4.5 Example: using required* and optional* parameters together [RIGHT - way]"
   ]
  },
  {
   "cell_type": "code",
   "execution_count": null,
   "metadata": {},
   "outputs": [],
   "source": [
    "@app.get(\"/get-car-by-name\")\n",
    "def get_car_by_name(*, name : Optional[str] = None, test: int):  #test is just a random parameter taken for example\n",
    "    \n",
    "    # we can add an asterisk [*] at the very beginning during function definition like above line to resolve positional parameter error\n",
    "    # otherwise we have to change the positions of parameters such that\n",
    "    # required parameters should appear before the optional parameters in the function definition\n",
    "    # i.e like this -->  def get_car_by_name(test: int, name : Optional[str] = None):\n",
    "\n",
    "    for item_id in car_inventory:\n",
    "        if car_inventory[item_id][\"name\"] == name:\n",
    "            return car_inventory[item_id]\n",
    "    return {\"Data\" : \"Not Found !!\"}\n",
    "\n",
    "# access this endpoint like this: 127.0.0.1:8000/get-car-by-name?name=Creta&test=1\n"
   ]
  },
  {
   "cell_type": "markdown",
   "metadata": {},
   "source": [
    "##### 1.4.6 Example: combining PATH parameters and QUERY parameters together ---"
   ]
  },
  {
   "cell_type": "code",
   "execution_count": null,
   "metadata": {},
   "outputs": [],
   "source": [
    "@app.get(\"/get-car-by-name/{car_id}\")\n",
    "def get_car_by_name(*, car_id: int, name : Optional[str] = None, test: int):  #test is just a random parameter taken for example\n",
    "\n",
    "    for item_id in car_inventory:\n",
    "        if car_inventory[item_id][\"name\"] == name:\n",
    "            return car_inventory[item_id]\n",
    "    return {\"Data\" : \"Not Found !!\"}\n",
    "\n",
    "\n",
    "# access this endpoint like this: http://127.0.0.1:8000/get-car-by-name/1?test=1&name=Scorpio\n"
   ]
  },
  {
   "cell_type": "markdown",
   "metadata": {},
   "source": [
    "### 2. POST Method: Examples    ===    ===    ===    ===    ===    ==="
   ]
  },
  {
   "cell_type": "code",
   "execution_count": null,
   "metadata": {},
   "outputs": [],
   "source": [
    "# we can create a model class like this to manipulate data efficiently \n",
    "class Car (BaseModel):\n",
    "    name: str\n",
    "    company: str\n",
    "    price: Optional[str] = None"
   ]
  },
  {
   "cell_type": "code",
   "execution_count": null,
   "metadata": {},
   "outputs": [],
   "source": [
    "cars_data = {}   # temp dictionary to hold the data; \n",
    "\n",
    "\n",
    "#we are using this now instead of cars_inventory dict for below examples"
   ]
  },
  {
   "cell_type": "markdown",
   "metadata": {},
   "source": [
    "##### 2.1 Example: adding a new item using request body of POST method"
   ]
  },
  {
   "cell_type": "code",
   "execution_count": null,
   "metadata": {},
   "outputs": [],
   "source": [
    "@app.post(\"/create-item/{item_id}\")\n",
    "def create_item (item_id: int, item: Car):\n",
    "    if item_id in cars_data:\n",
    "        return {\"Error\" : \"Item ID already exists !!\"}\n",
    "\n",
    "    cars_data[item_id] = item\n",
    "\n",
    "    return cars_data[item_id]"
   ]
  },
  {
   "cell_type": "markdown",
   "metadata": {},
   "source": [
    "###### 2.2 Example: retriving the data using GET method"
   ]
  },
  {
   "cell_type": "code",
   "execution_count": null,
   "metadata": {},
   "outputs": [],
   "source": [
    "@app.get(\"/get-car-by-name\")\n",
    "def get_car_by_name(name : str):  \n",
    "\n",
    "    for item_id in cars_data:\n",
    "        if cars_data[item_id].name == name:\n",
    "            return cars_data[item_id]\n",
    "    return {\"Data\" : \"Not Found !!\"}"
   ]
  },
  {
   "cell_type": "markdown",
   "metadata": {},
   "source": [
    "### 3. PUT Method: Examples    ===    ===    ===    ===    ===    ==="
   ]
  },
  {
   "cell_type": "code",
   "execution_count": null,
   "metadata": {},
   "outputs": [],
   "source": [
    "class UpdateCar (BaseModel):\n",
    "    name: Optional[str] = None\n",
    "    company: Optional[str] = None\n",
    "    price: Optional[str] = None\n",
    "        \n"
   ]
  },
  {
   "cell_type": "code",
   "execution_count": null,
   "metadata": {},
   "outputs": [],
   "source": [
    "@app.put(\"/update_item/{item_id}\")\n",
    "def update_item (item_id: int, item: UpdateCar):\n",
    "\n",
    "    if item_id not in cars_data:\n",
    "        return {\"Error\": \"Item ID does not exists.\"}\n",
    "    if item.name != None:\n",
    "        cars_data[item_id].name = item.name \n",
    "\n",
    "    if item.company != None:\n",
    "        cars_data[item_id].company = item.company \n",
    "\n",
    "    if item.price != None:\n",
    "        cars_data[item_id].price = item.price \n",
    "\n",
    "    return cars_data[item_id]"
   ]
  },
  {
   "cell_type": "markdown",
   "metadata": {},
   "source": [
    "### 4. DELETE Method: Examples    ===    ===    ===    ===    ===    ==="
   ]
  },
  {
   "cell_type": "code",
   "execution_count": null,
   "metadata": {},
   "outputs": [],
   "source": [
    "#deleting an item by taking query parameter\n",
    "@app.delete(\"/delete_item\")\n",
    "def delete_item(item_id: int = Query(..., description = \"The ID of the item to delete\")):\n",
    "    if item_id not in cars_data:\n",
    "        raise HTTPException(status_code=404, detail=\"Item ID does not exist.\") # error codes can be supplied like this if we want \n",
    "\n",
    "    del cars_data[item_id]\n",
    "\n",
    "    return {\"Success\" : \"Item deleted !!\"}"
   ]
  },
  {
   "cell_type": "markdown",
   "metadata": {},
   "source": [
    "References: https://www.youtube.com/watch?v=-ykeT6kk4bk"
   ]
  },
  {
   "cell_type": "code",
   "execution_count": null,
   "metadata": {},
   "outputs": [],
   "source": []
  }
 ],
 "metadata": {
  "kernelspec": {
   "display_name": "Python 3",
   "language": "python",
   "name": "python3"
  },
  "language_info": {
   "codemirror_mode": {
    "name": "ipython",
    "version": 3
   },
   "file_extension": ".py",
   "mimetype": "text/x-python",
   "name": "python",
   "nbconvert_exporter": "python",
   "pygments_lexer": "ipython3",
   "version": "3.8.5"
  }
 },
 "nbformat": 4,
 "nbformat_minor": 4
}
